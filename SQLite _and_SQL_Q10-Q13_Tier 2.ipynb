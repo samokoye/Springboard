{
 "cells": [
  {
   "cell_type": "code",
   "execution_count": 1,
   "metadata": {},
   "outputs": [],
   "source": [
    "import sqlite3 \n",
    "import pandas as pd\n"
   ]
  },
  {
   "cell_type": "code",
   "execution_count": 2,
   "metadata": {},
   "outputs": [],
   "source": [
    "con = sqlite3.connect(\"sqlite_db_pythonsqlite.db\")\n",
    "cur = con.cursor()"
   ]
  },
  {
   "cell_type": "code",
   "execution_count": 4,
   "metadata": {},
   "outputs": [
    {
     "name": "stdout",
     "output_type": "stream",
     "text": [
      "Facility   \t Total Rev \n",
      "Table Tennis \t 180.00\n",
      "Snooker Table \t 240.00\n",
      "Pool Table \t 270.00\n"
     ]
    }
   ],
   "source": [
    "query_10 = '''\n",
    "select name, sum(rev) as total_revenue \n",
    "from (select f.name,  \n",
    "       CASE when b.memid != 0 then f.membercost*b.slots \n",
    "            else f.guestcost*b.slots end as rev\n",
    "from Facilities as f \n",
    "inner join Bookings as b\n",
    "on b.facid = f.facid) as sub\n",
    "group by sub.name\n",
    "having sum(rev) < 1000\n",
    "order by total_revenue;\n",
    "'''\n",
    "cur.execute(query_10)\n",
    "\n",
    "print(\"{0:10s} \\t {1:10s}\".format('Facility', 'Total Rev'))\n",
    "for res in cur.fetchall():\n",
    "    print(\"{0:10s} \\t {1:.2f}\".format(*res))"
   ]
  },
  {
   "cell_type": "code",
   "execution_count": null,
   "metadata": {},
   "outputs": [],
   "source": []
  }
 ],
 "metadata": {
  "kernelspec": {
   "display_name": "Python 3",
   "language": "python",
   "name": "python3"
  },
  "language_info": {
   "codemirror_mode": {
    "name": "ipython",
    "version": 3
   },
   "file_extension": ".py",
   "mimetype": "text/x-python",
   "name": "python",
   "nbconvert_exporter": "python",
   "pygments_lexer": "ipython3",
   "version": "3.8.5"
  }
 },
 "nbformat": 4,
 "nbformat_minor": 4
}
