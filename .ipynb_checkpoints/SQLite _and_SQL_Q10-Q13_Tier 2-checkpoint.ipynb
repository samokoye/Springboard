{
 "cells": [
  {
   "cell_type": "code",
   "execution_count": 1,
   "metadata": {},
   "outputs": [],
   "source": [
    "import sqlite3 \n",
    "import pandas as pd\n"
   ]
  },
  {
   "cell_type": "code",
   "execution_count": 2,
   "metadata": {},
   "outputs": [],
   "source": [
    "con = sqlite3.connect(\"sqlite_db_pythonsqlite.db\")\n",
    "cur = con.cursor()"
   ]
  },
  {
   "cell_type": "code",
   "execution_count": 4,
   "metadata": {},
   "outputs": [
    {
     "name": "stdout",
     "output_type": "stream",
     "text": [
      "Facility   \t Total Rev \n",
      "Table Tennis \t 180.00\n",
      "Snooker Table \t 240.00\n",
      "Pool Table \t 270.00\n"
     ]
    }
   ],
   "source": [
    "query_10 = '''\n",
    "select name, sum(rev) as total_revenue \n",
    "from (select f.name,  \n",
    "       CASE when b.memid != 0 then f.membercost*b.slots \n",
    "            else f.guestcost*b.slots end as rev\n",
    "from Facilities as f \n",
    "inner join Bookings as b\n",
    "on b.facid = f.facid) as sub\n",
    "group by sub.name\n",
    "having sum(rev) < 1000\n",
    "order by total_revenue;\n",
    "'''\n",
    "cur.execute(query_10)\n",
    "\n",
    "print(\"{0:10s} \\t {1:10s}\".format('Facility', 'Total Rev'))\n",
    "for res in cur.fetchall():\n",
    "    print(\"{0:10s} \\t {1:.2f}\".format(*res))"
   ]
  },
  {
   "cell_type": "code",
   "execution_count": 8,
   "metadata": {},
   "outputs": [
    {
     "name": "stdout",
     "output_type": "stream",
     "text": [
      "Firstname  \t Surname    \t Rec. fname \t Rec. surname\n",
      "Florence   \t Bader      \t Ponder     \t Stibbons  \n",
      "Anne       \t Baker      \t Ponder     \t Stibbons  \n",
      "Timothy    \t Baker      \t Jemima     \t Farrell   \n",
      "Tim        \t Boothe     \t Tim        \t Rownam    \n",
      "Gerald     \t Butters    \t Darren     \t Smith     \n",
      "Joan       \t Coplin     \t Timothy    \t Baker     \n",
      "Erica      \t Crumpet    \t Tracy      \t Smith     \n",
      "Nancy      \t Dare       \t Janice     \t Joplette  \n",
      "David      \t Farrell   \n",
      "Jemima     \t Farrell   \n",
      "Matthew    \t Genting    \t Gerald     \t Butters   \n",
      "John       \t Hunt       \t Millicent  \t Purview   \n",
      "David      \t Jones      \t Janice     \t Joplette  \n",
      "Douglas    \t Jones      \t David      \t Jones     \n",
      "Janice     \t Joplette   \t Darren     \t Smith     \n",
      "Anna       \t Mackenzie  \t Darren     \t Smith     \n",
      "Charles    \t Owen       \t Darren     \t Smith     \n",
      "David      \t Pinker     \t Jemima     \t Farrell   \n",
      "Millicent  \t Purview    \t Tracy      \t Smith     \n",
      "Tim        \t Rownam    \n",
      "Henrietta  \t Rumney     \t Matthew    \t Genting   \n",
      "Ramnaresh  \t Sarwin     \t Florence   \t Bader     \n",
      "Darren     \t Smith     \n",
      "Darren     \t Smith     \n",
      "Jack       \t Smith      \t Darren     \t Smith     \n",
      "Tracy      \t Smith     \n",
      "Ponder     \t Stibbons   \t Burton     \t Tracy     \n",
      "Burton     \t Tracy     \n",
      "Hyacinth   \t Tupperware\n",
      "Henry      \t Worthington-Smyth \t Tracy      \t Smith     \n"
     ]
    }
   ],
   "source": [
    "query_11 = '''\n",
    "SELECT firstname, surname, (SELECT firstname from Members as m2 where m2.memid = m1.recommendedby and m1.recommendedby != 0) as Reco_firstname, (SELECT surname from Members as m2 where m2.memid = m1.recommendedby and m1.recommendedby != 0) as Reco_surtname\n",
    "FROM Members as m1\n",
    "WHERE memid != 0\n",
    "ORDER BY surname, firstname;\n",
    "'''\n",
    "cur.execute(query_11)\n",
    "\n",
    "print(\"{0:10s} \\t {1:10s} \\t {2:10s} \\t {3:10s}\".format('Firstname', 'Surname', 'Rec. fname', 'Rec. surname'))\n",
    "for res in cur.fetchall():\n",
    "    try:\n",
    "        print(\"{0:10s} \\t {1:10s} \\t {2:10s} \\t {3:10s}\".format(*res))\n",
    "    except:\n",
    "        print(\"{0:10s} \\t {1:10s}\".format(*res))"
   ]
  },
  {
   "cell_type": "code",
   "execution_count": 9,
   "metadata": {},
   "outputs": [
    {
     "name": "stdout",
     "output_type": "stream",
     "text": [
      "Facility        \t Usage     \n",
      "Badminton Court \t 344.00\n",
      "Massage Room 1  \t 421.00\n",
      "Massage Room 2  \t 27.00\n",
      "Pool Table      \t 783.00\n",
      "Snooker Table   \t 421.00\n",
      "Squash Court    \t 195.00\n",
      "Table Tennis    \t 385.00\n",
      "Tennis Court 1  \t 308.00\n",
      "Tennis Court 2  \t 276.00\n"
     ]
    }
   ],
   "source": [
    "query_12 = '''\n",
    "SELECT f.name, count(*)\n",
    "FROM Facilities as f\n",
    "INNER JOIN Bookings as b\n",
    "on b.facid = f.facid\n",
    "where b.memid != 0\n",
    "group by f.name;\n",
    "'''\n",
    "cur.execute(query_12)\n",
    "\n",
    "print(\"{0:15s} \\t {1:10s}\".format('Facility', 'Usage'))\n",
    "for res in cur.fetchall():\n",
    "    print(\"{0:15s} \\t {1:.2f}\".format(*res))"
   ]
  },
  {
   "cell_type": "code",
   "execution_count": 10,
   "metadata": {},
   "outputs": [
    {
     "name": "stdout",
     "output_type": "stream",
     "text": [
      "Facility        \t Month      \t Usage     \n",
      "Badminton Court \t 2012-07    \t 51.00\n",
      "Badminton Court \t 2012-08    \t 132.00\n",
      "Badminton Court \t 2012-09    \t 161.00\n",
      "Massage Room 1  \t 2012-07    \t 77.00\n",
      "Massage Room 1  \t 2012-08    \t 153.00\n",
      "Massage Room 1  \t 2012-09    \t 191.00\n",
      "Massage Room 2  \t 2012-07    \t 4.00\n",
      "Massage Room 2  \t 2012-08    \t 9.00\n",
      "Massage Room 2  \t 2012-09    \t 14.00\n",
      "Pool Table      \t 2012-07    \t 103.00\n",
      "Pool Table      \t 2012-08    \t 272.00\n",
      "Pool Table      \t 2012-09    \t 408.00\n",
      "Snooker Table   \t 2012-07    \t 68.00\n",
      "Snooker Table   \t 2012-08    \t 154.00\n",
      "Snooker Table   \t 2012-09    \t 199.00\n",
      "Squash Court    \t 2012-07    \t 23.00\n",
      "Squash Court    \t 2012-08    \t 85.00\n",
      "Squash Court    \t 2012-09    \t 87.00\n",
      "Table Tennis    \t 2012-07    \t 48.00\n",
      "Table Tennis    \t 2012-08    \t 143.00\n",
      "Table Tennis    \t 2012-09    \t 194.00\n",
      "Tennis Court 1  \t 2012-07    \t 65.00\n",
      "Tennis Court 1  \t 2012-08    \t 111.00\n",
      "Tennis Court 1  \t 2012-09    \t 132.00\n",
      "Tennis Court 2  \t 2012-07    \t 41.00\n",
      "Tennis Court 2  \t 2012-08    \t 109.00\n",
      "Tennis Court 2  \t 2012-09    \t 126.00\n"
     ]
    }
   ],
   "source": [
    "query_13 = '''\n",
    "SELECT f.name, (strftime('%Y-%m', starttime)) as month_count, count(*) as usage_count\n",
    "FROM Facilities as f\n",
    "INNER JOIN Bookings as b\n",
    "on b.facid = f.facid\n",
    "where b.memid != 0\n",
    "group by f.name, month_count;\n",
    "'''\n",
    "cur.execute(query_13)\n",
    "\n",
    "print(\"{0:15s} \\t {1:10s} \\t {2:10s}\".format('Facility', 'Month', 'Usage'))\n",
    "for res in cur.fetchall():\n",
    "    print(\"{0:15s} \\t {1:10s} \\t {2:.2f}\".format(*res))"
   ]
  },
  {
   "cell_type": "code",
   "execution_count": null,
   "metadata": {},
   "outputs": [],
   "source": []
  }
 ],
 "metadata": {
  "kernelspec": {
   "display_name": "Python 3",
   "language": "python",
   "name": "python3"
  },
  "language_info": {
   "codemirror_mode": {
    "name": "ipython",
    "version": 3
   },
   "file_extension": ".py",
   "mimetype": "text/x-python",
   "name": "python",
   "nbconvert_exporter": "python",
   "pygments_lexer": "ipython3",
   "version": "3.8.5"
  }
 },
 "nbformat": 4,
 "nbformat_minor": 4
}
